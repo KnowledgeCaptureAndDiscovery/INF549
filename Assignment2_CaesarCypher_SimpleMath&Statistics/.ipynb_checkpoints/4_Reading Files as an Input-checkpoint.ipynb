{
 "cells": [
  {
   "cell_type": "markdown",
   "metadata": {},
   "source": [
    "# A Notebook to Learn to Read Files"
   ]
  },
  {
   "cell_type": "markdown",
   "metadata": {},
   "source": [
    "Run this cell containing some predefined functions to summarize data. In the later assingments, we will change the way of input from inputting strings to inputting the names of files. With this notebook you will learn the correct way to input the names of files in both Mac and Windows systems. All the functions in this notebook work the same as they do in the \"Summarizing Data\" notebook. The only difference is the way you input your data."
   ]
  },
  {
   "cell_type": "code",
   "execution_count": null,
   "metadata": {
    "collapsed": true
   },
   "outputs": [],
   "source": [
    "import os\n",
    "\n",
    "#The function displays the min, 1st quartile, median, 3rd quartile and max of the numbers inputted.\n",
    "from numpy import *\n",
    "def display_5_number_summary(filename):    \n",
    "    with open(filename) as f:\n",
    "        numbers = f.readlines()\n",
    "        try:\n",
    "            numbers=list(map(float,numbers))\n",
    "            Min=percentile(numbers,0)      \n",
    "            Q1=percentile(numbers,25)        \n",
    "            Median=percentile(numbers,50)\n",
    "            Q3=percentile(numbers,75)\n",
    "            Max=percentile(numbers,100)\n",
    "            return Min,Q1,Median,Q3,Max\n",
    "        except:\n",
    "            print('Please Input Numbers Only')\n",
    "\n",
    "#The function displays the box plot of the inputted numbers.\n",
    "def plot_5_summary(filename):   \n",
    "    with open(filename) as f:\n",
    "        numbers = f.readlines()\n",
    "        try:\n",
    "            numbers=list(map(float,numbers))\n",
    "            import matplotlib.pyplot as plt\n",
    "            plt.boxplot(numbers)\n",
    "            plt.show()\n",
    "            plt.close('all')\n",
    "        except:\n",
    "            print('Please Input Numbers Only')"
   ]
  },
  {
   "cell_type": "markdown",
   "metadata": {},
   "source": [
    "## About File Paths ##\n",
    "A **_path_** is the general form of the name of a file or directory. It specifies a unique location in a file system. A path points to a file system location by following the directory tree hierarchy expressed in a string of characters in which path components, separated by a delimiting character, represent each directory. The delimiting character is most commonly the slash (\"/\"), the backslash character (\"\\\"), or colon (\":\").  \n",
    "\n",
    "* An **_absolute or full path_** points to the same location in a file system, regardless of the current working directory. To do that, it must include the root directory.  \n",
    "\n",
    "\n",
    "* By contrast, a **_relative_** path starts from the current directory, avoiding the need to provide the full absolute path. In our case, the working directory is where the notebook is. A filename can be considered as a relative path based at the current working directory.    "
   ]
  },
  {
   "cell_type": "markdown",
   "metadata": {},
   "source": [
    "## Input an absolute path of a file ## \n",
    "For Mac users, right-click the file you want to input, choose \"Get Info\", and copy and paste the show-in \"where\" field into the input box below and add \"/\" and the filename after that path.  \n",
    " \n",
    " For Windows users, hold down the Shift key, then right-click the file. In the context menu that appears, find and click Copy as path. Paste it into the input box below.  \n",
    " \n",
    " The datasets that we use in the notebook are under the Simple_math_and_statistics folder."
   ]
  },
  {
   "cell_type": "code",
   "execution_count": null,
   "metadata": {},
   "outputs": [],
   "source": [
    "filename=input('Please Enter the Absoulate Path of the File You Want to Summarize: ')\n",
    "Min,Q1,Median,Q3,Max=display_5_number_summary(filename)\n",
    "print('Min:',Min)\n",
    "print('Q1:', Q1)\n",
    "print('Median:',Median)\n",
    "print('Q3:',Q3)\n",
    "print('Max:',Max)"
   ]
  },
  {
   "cell_type": "markdown",
   "metadata": {
    "collapsed": true
   },
   "source": [
    "## Input a relative path of a file  ##\n",
    "No matter what operating system you are using, you can specify just the filename into the input box if the file is in the same directory where the notebook is.  \n",
    "\n",
    "If the file is in a subdirectory of where the notebook is, follow these instructions.  \n",
    "\n",
    "For Mac users, add \"./folder name/\" before the filename. Folder name is the name of folder in your working directory. For example, sample_numbers_2.txt is in the folder named \"Simple_math_and_statistics\" so the relative path should be \"./Simple_math_and_statistics/sample_numbers_2.txt\".  \n",
    "\n",
    "For Windows users, add folder name and a backslash before your filename. Folder name is the name of folder in your working directory. For example, sample_numbers_2.txt is in the folder named \"Simple_math_and_statistics\" so the relative path should be \"Simple_math_and_statistics\\sample_numbers_2.txt\"."
   ]
  },
  {
   "cell_type": "code",
   "execution_count": null,
   "metadata": {},
   "outputs": [],
   "source": [
    "filename=input('Please Enter the Name of the File You Want to Summarize: ')\n",
    "plot_5_summary(filename)"
   ]
  },
  {
   "cell_type": "markdown",
   "metadata": {
    "collapsed": true
   },
   "source": [
    "## Pratice by yourself## \n",
    "1.Input an absolute path of a file  \n",
    "Try to create a file following the format of the sample file and then put it where the notebook is or somewhere else in your file system and input the file with an absolute path."
   ]
  },
  {
   "cell_type": "code",
   "execution_count": null,
   "metadata": {
    "collapsed": true
   },
   "outputs": [],
   "source": [
    "filename=input('Please Enter the Name of the File You Want to Summarize: ')\n",
    "Min,Q1,Median,Q3,Max=display_5_number_summary(filename)\n",
    "print('Min:',Min)\n",
    "print('Q1:', Q1)\n",
    "print('Median:',Median)\n",
    "print('Q3:',Q3)\n",
    "print('Max:',Max)"
   ]
  },
  {
   "cell_type": "markdown",
   "metadata": {},
   "source": [
    "2.Input a relative path of a file  \n",
    "Try to create a file following the format of the sample file and then put it where the notebook is or somewhere else in your file systen and input the file with a relative path."
   ]
  },
  {
   "cell_type": "code",
   "execution_count": null,
   "metadata": {
    "collapsed": true
   },
   "outputs": [],
   "source": [
    "filename=input('Please Enter the Name of the File You Want to Summarize: ')\n",
    "plot_5_summary(filename)"
   ]
  }
 ],
 "metadata": {
  "anaconda-cloud": {},
  "kernelspec": {
   "display_name": "Python 3",
   "language": "python",
   "name": "python3"
  },
  "language_info": {
   "codemirror_mode": {
    "name": "ipython",
    "version": 3
   },
   "file_extension": ".py",
   "mimetype": "text/x-python",
   "name": "python",
   "nbconvert_exporter": "python",
   "pygments_lexer": "ipython3",
   "version": "3.6.3"
  }
 },
 "nbformat": 4,
 "nbformat_minor": 2
}
